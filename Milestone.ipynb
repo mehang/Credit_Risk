{
 "cells": [
  {
   "cell_type": "code",
   "execution_count": 1,
   "metadata": {},
   "outputs": [],
   "source": [
    "#numpy and pandas for data manipulation\n",
    "import numpy as np\n",
    "import pandas as pd\n",
    "\n",
    "#sklearn preprocessing for dealing with categorical variables\n",
    "from sklearn.preprocessing import LabelEncoder\n",
    "from sklearn.model_selection import KFold\n",
    "\n",
    "from sklearn.model_selection import StratifiedKFold\n",
    "\n",
    "from sklearn.linear_model import LogisticRegression\n",
    "\n",
    "from sklearn.model_selection import cross_val_predict"
   ]
  },
  {
   "cell_type": "code",
   "execution_count": 2,
   "metadata": {},
   "outputs": [],
   "source": [
    "samples = pd.read_csv('data/application_train.csv')\n",
    "# # Create an anomalous flag column\n",
    "samples['DAYS_EMPLOYED_ANOM'] = samples[\"DAYS_EMPLOYED\"] == 365243\n",
    "\n",
    "# # # Replace the anomalous values with nan\n",
    "samples['DAYS_EMPLOYED'].replace({365243: np.nan}, inplace = True)\n",
    "\n",
    "# Treating as outlier and removing\n",
    "samples = samples[samples['CODE_GENDER'] != 'XNA']\n",
    "\n",
    "train_label = samples['TARGET']\n",
    "train_data = samples.drop(columns=['TARGET'])\n",
    "\n",
    "correlations = samples.corr()\n",
    "\n",
    "# Select upper triangle of correlation matrix\n",
    "upper = correlations.where(np.triu(np.ones(correlations.shape), k=1).astype(np.bool))\n",
    "\n",
    "# Find index of feature columns with correlation greater than 0.95\n",
    "to_drop = [column for column in upper.columns if any(upper[column] > 0.99)]\n",
    "\n",
    "# Drop highly correlated features\n",
    "train_data = train_data.drop(train_data[to_drop], axis=1)"
   ]
  },
  {
   "cell_type": "code",
   "execution_count": 3,
   "metadata": {},
   "outputs": [
    {
     "name": "stdout",
     "output_type": "stream",
     "text": [
      "4 columns were label encoded.\n"
     ]
    }
   ],
   "source": [
    "# Create a label encoder object\n",
    "le = LabelEncoder()\n",
    "le_count = 0\n",
    "\n",
    "# Iterate through the columns\n",
    "for col in train_data:\n",
    "    if train_data[col].dtype == 'object':\n",
    "        # If 2 or fewer unique categories\n",
    "        if len(list(train_data[col].unique())) <= 2:\n",
    "            # Train on the training data\n",
    "            le.fit(train_data[col])\n",
    "            # Transform \n",
    "            train_data[col] = le.transform(train_data[col])\n",
    "            \n",
    "            # Keep track of how many columns were label encoded\n",
    "            le_count += 1\n",
    "print('%d columns were label encoded.' % le_count)"
   ]
  },
  {
   "cell_type": "code",
   "execution_count": 4,
   "metadata": {},
   "outputs": [],
   "source": [
    "# one-hot encoding of categorical variables\n",
    "train_data = pd.get_dummies(train_data)"
   ]
  },
  {
   "cell_type": "code",
   "execution_count": 5,
   "metadata": {},
   "outputs": [],
   "source": [
    "train_data['CREDIT_INCOME_PERCENT'] = train_data['AMT_CREDIT'] / train_data['AMT_INCOME_TOTAL']\n",
    "train_data['ANNUITY_INCOME_PERCENT'] = train_data['AMT_ANNUITY'] / train_data['AMT_INCOME_TOTAL']\n",
    "train_data['CREDIT_TERM'] = train_data['AMT_ANNUITY'] / train_data['AMT_CREDIT']\n",
    "train_data['DAYS_EMPLOYED_PERCENT'] = train_data['DAYS_EMPLOYED'] / train_data['DAYS_BIRTH']"
   ]
  },
  {
   "cell_type": "code",
   "execution_count": 6,
   "metadata": {},
   "outputs": [
    {
     "name": "stdout",
     "output_type": "stream",
     "text": [
      "Training data shape:  (307507, 230)\n"
     ]
    }
   ],
   "source": [
    "from sklearn.preprocessing import MinMaxScaler\n",
    "from sklearn.impute import SimpleImputer\n",
    "\n",
    "\n",
    "# Median imputation of missing values\n",
    "imputer = SimpleImputer(strategy = 'median')\n",
    "\n",
    "# Scale each feature to 0-1\n",
    "scaler = MinMaxScaler(feature_range = (0, 1))\n",
    "\n",
    "# Fit on the training data\n",
    "imputer.fit(train_data)\n",
    "\n",
    "# Transform both training and testing data\n",
    "train_data = imputer.transform(train_data)\n",
    "\n",
    "# Repeat with the scaler\n",
    "scaler.fit(train_data)\n",
    "train_data = scaler.transform(train_data)\n",
    "\n",
    "print('Training data shape: ', train_data.shape)"
   ]
  },
  {
   "cell_type": "code",
   "execution_count": 7,
   "metadata": {},
   "outputs": [],
   "source": [
    "from sklearn.model_selection import train_test_split\n",
    "x_train,x_test, y_train, y_test = train_test_split(train_data, train_label, test_size=0.2)"
   ]
  },
  {
   "cell_type": "code",
   "execution_count": 8,
   "metadata": {},
   "outputs": [],
   "source": [
    "from sklearn.model_selection import StratifiedKFold\n",
    "\n",
    "from sklearn.linear_model import LogisticRegression\n",
    "\n",
    "from sklearn.model_selection import cross_val_predict\n",
    "\n",
    "# Make the model with the specified regularization parameter\n",
    "\n",
    "# 80-20 train-test case\n",
    "kf = StratifiedKFold(n_splits=5, random_state=None, shuffle=False)\n",
    "log_reg = LogisticRegression(C = 0.001, max_iter=100, solver='sag', fit_intercept=True,\n",
    "                             class_weight='balanced')\n",
    "y_pred = cross_val_predict(estimator=log_reg , X=x_train, y=y_train, cv=kf, method='predict_proba')\n",
    "\n",
    "from sklearn import metrics\n",
    "\n",
    "# print(metrics.confusion_matrix(y_train, y_pred))\n",
    "# print(metrics.classification_report(train_label ,y_pred))\n",
    "# print(\"roc - {}\".format(metrics.roc_auc_score(y_train, y_pred)))"
   ]
  },
  {
   "cell_type": "code",
   "execution_count": 12,
   "metadata": {},
   "outputs": [
    {
     "data": {
      "text/plain": [
       "array([[0.6451454 , 0.3548546 ],\n",
       "       [0.35189698, 0.64810302],\n",
       "       [0.53853605, 0.46146395],\n",
       "       ...,\n",
       "       [0.5328944 , 0.4671056 ],\n",
       "       [0.37136355, 0.62863645],\n",
       "       [0.43653138, 0.56346862]])"
      ]
     },
     "execution_count": 12,
     "metadata": {},
     "output_type": "execute_result"
    }
   ],
   "source": [
    "y_pred"
   ]
  },
  {
   "cell_type": "code",
   "execution_count": null,
   "metadata": {},
   "outputs": [
    {
     "name": "stderr",
     "output_type": "stream",
     "text": [
      "[Parallel(n_jobs=-1)]: Using backend LokyBackend with 8 concurrent workers.\n",
      "[Parallel(n_jobs=-1)]: Done  34 tasks      | elapsed:   33.2s\n",
      "[Parallel(n_jobs=-1)]: Done 184 tasks      | elapsed:  1.3min\n",
      "[Parallel(n_jobs=-1)]: Done 434 tasks      | elapsed:  2.6min\n",
      "[Parallel(n_jobs=-1)]: Done 784 tasks      | elapsed:  4.5min\n",
      "[Parallel(n_jobs=-1)]: Done 1234 tasks      | elapsed:  6.9min\n",
      "[Parallel(n_jobs=-1)]: Done 1784 tasks      | elapsed:  9.9min\n",
      "[Parallel(n_jobs=-1)]: Done 2434 tasks      | elapsed: 13.4min\n",
      "[Parallel(n_jobs=-1)]: Done 3184 tasks      | elapsed: 17.7min\n",
      "[Parallel(n_jobs=-1)]: Done 4034 tasks      | elapsed: 22.2min\n",
      "[Parallel(n_jobs=-1)]: Done 4984 tasks      | elapsed: 28.6min\n",
      "[Parallel(n_jobs=-1)]: Done 6034 tasks      | elapsed: 36.6min\n",
      "[Parallel(n_jobs=-1)]: Done 7184 tasks      | elapsed: 45.7min\n",
      "[Parallel(n_jobs=-1)]: Done 8434 tasks      | elapsed: 53.5min\n",
      "[Parallel(n_jobs=-1)]: Done 9784 tasks      | elapsed: 61.2min\n",
      "[Parallel(n_jobs=-1)]: Done 10000 out of 10000 | elapsed: 62.3min finished\n",
      "[Parallel(n_jobs=8)]: Using backend ThreadingBackend with 8 concurrent workers.\n",
      "[Parallel(n_jobs=8)]: Done  34 tasks      | elapsed:    2.0s\n",
      "[Parallel(n_jobs=8)]: Done 184 tasks      | elapsed:    9.1s\n",
      "[Parallel(n_jobs=8)]: Done 434 tasks      | elapsed:   24.2s\n",
      "[Parallel(n_jobs=8)]: Done 784 tasks      | elapsed:   35.7s\n",
      "[Parallel(n_jobs=8)]: Done 1234 tasks      | elapsed:   59.6s\n",
      "[Parallel(n_jobs=8)]: Done 1784 tasks      | elapsed:  1.6min\n",
      "[Parallel(n_jobs=8)]: Done 2434 tasks      | elapsed:  2.2min\n",
      "[Parallel(n_jobs=8)]: Done 3184 tasks      | elapsed:  2.3min\n",
      "[Parallel(n_jobs=8)]: Done 4034 tasks      | elapsed:  2.4min\n",
      "[Parallel(n_jobs=8)]: Done 4984 tasks      | elapsed:  2.4min\n",
      "[Parallel(n_jobs=8)]: Done 6034 tasks      | elapsed:  2.5min\n",
      "[Parallel(n_jobs=8)]: Done 7184 tasks      | elapsed:  2.6min\n",
      "[Parallel(n_jobs=8)]: Done 8434 tasks      | elapsed:  2.8min\n",
      "[Parallel(n_jobs=8)]: Done 9784 tasks      | elapsed:  2.9min\n",
      "[Parallel(n_jobs=8)]: Done 10000 out of 10000 | elapsed:  2.9min finished\n",
      "[Parallel(n_jobs=-1)]: Using backend LokyBackend with 8 concurrent workers.\n",
      "[Parallel(n_jobs=-1)]: Done  34 tasks      | elapsed:   16.7s\n",
      "[Parallel(n_jobs=-1)]: Done 184 tasks      | elapsed:  1.1min\n",
      "[Parallel(n_jobs=-1)]: Done 434 tasks      | elapsed:  2.5min\n",
      "[Parallel(n_jobs=-1)]: Done 784 tasks      | elapsed:  4.6min\n",
      "[Parallel(n_jobs=-1)]: Done 1234 tasks      | elapsed:  7.1min\n",
      "[Parallel(n_jobs=-1)]: Done 1784 tasks      | elapsed: 10.5min\n",
      "[Parallel(n_jobs=-1)]: Done 2434 tasks      | elapsed: 14.2min\n",
      "[Parallel(n_jobs=-1)]: Done 3184 tasks      | elapsed: 18.8min\n",
      "[Parallel(n_jobs=-1)]: Done 4034 tasks      | elapsed: 24.5min\n",
      "[Parallel(n_jobs=-1)]: Done 4984 tasks      | elapsed: 32.1min\n",
      "[Parallel(n_jobs=-1)]: Done 6034 tasks      | elapsed: 41.3min\n",
      "[Parallel(n_jobs=-1)]: Done 7184 tasks      | elapsed: 49.5min\n",
      "[Parallel(n_jobs=-1)]: Done 8434 tasks      | elapsed: 57.4min\n",
      "[Parallel(n_jobs=-1)]: Done 9784 tasks      | elapsed: 65.7min\n",
      "[Parallel(n_jobs=-1)]: Done 10000 out of 10000 | elapsed: 67.0min finished\n",
      "[Parallel(n_jobs=8)]: Using backend ThreadingBackend with 8 concurrent workers.\n",
      "[Parallel(n_jobs=8)]: Done  34 tasks      | elapsed:    8.7s\n",
      "[Parallel(n_jobs=8)]: Done 184 tasks      | elapsed:   37.2s\n",
      "[Parallel(n_jobs=8)]: Done 434 tasks      | elapsed:  1.6min\n",
      "[Parallel(n_jobs=8)]: Done 784 tasks      | elapsed:  2.7min\n",
      "[Parallel(n_jobs=8)]: Done 1234 tasks      | elapsed:  4.1min\n"
     ]
    }
   ],
   "source": [
    "from sklearn.ensemble import RandomForestClassifier\n",
    "from sklearn.model_selection import cross_val_predict\n",
    "from sklearn.model_selection import StratifiedKFold\n",
    "\n",
    "tot_trees = [10000]\n",
    "for tot_tree in tot_trees:\n",
    "    kf = StratifiedKFold(n_splits=5, random_state=None, shuffle=False)\n",
    "    random_forest = RandomForestClassifier(n_estimators = tot_tree, class_weight='balanced', random_state = 50, verbose = 1, n_jobs = -1)\n",
    "    y_pred = cross_val_predict(estimator=random_forest, X=x_train, y=y_train, cv=kf)\n",
    "    print(\"Number of trees - {}  roc - {}\".format(tot_tree,metrics.roc_auc_score(y_train, y_pred)))"
   ]
  },
  {
   "cell_type": "code",
   "execution_count": 20,
   "metadata": {},
   "outputs": [
    {
     "data": {
      "text/plain": [
       "0.3548545964872827"
      ]
     },
     "execution_count": 20,
     "metadata": {},
     "output_type": "execute_result"
    }
   ],
   "source": [
    "make_prediction(arr):\n",
    "    return [ for _y_predic]"
   ]
  },
  {
   "cell_type": "code",
   "execution_count": 31,
   "metadata": {},
   "outputs": [
    {
     "name": "stdout",
     "output_type": "stream",
     "text": [
      "roc - 0.6758773151208118\n"
     ]
    }
   ],
   "source": [
    "def classify(arr, threshold=0.5):\n",
    "    return [1 if _y_pred[1]>=threshold else 0  for _y_pred in y_pred]\n",
    "jpt = [1 if _y_pred[1]>=0.5 else 0  for _y_pred in y_pred]\n",
    "print(\"roc - {}\".format(metrics.roc_auc_score(y_train, jpt)))"
   ]
  },
  {
   "cell_type": "code",
   "execution_count": 41,
   "metadata": {},
   "outputs": [
    {
     "name": "stdout",
     "output_type": "stream",
     "text": [
      "[[154276  71894]\n",
      " [  6527  13308]]\n",
      "roc - 0.6765296407480921\n"
     ]
    }
   ],
   "source": [
    "from sklearn.model_selection import StratifiedKFold\n",
    "\n",
    "from sklearn.linear_model import LogisticRegression\n",
    "\n",
    "from sklearn.model_selection import cross_val_predict\n",
    "\n",
    "# Make the model with the specified regularization parameter\n",
    "\n",
    "# 80-20 train-test case\n",
    "kf = StratifiedKFold(n_splits=5, random_state=None, shuffle=False)\n",
    "log_reg = LogisticRegression(C = 0.001, max_iter=100, solver='sag', fit_intercept=True,\n",
    "                             class_weight='balanced')\n",
    "y_pred = cross_val_predict(estimator=log_reg , X=x_train, y=y_train, cv=kf)\n",
    "from sklearn import metrics\n",
    "\n",
    "print(metrics.confusion_matrix(y_train, y_pred))\n",
    "# print(metrics.classification_report(train_label ,y_pred))\n",
    "print(\"roc - {}\".format(metrics.roc_auc_score(y_train, y_pred)))"
   ]
  },
  {
   "cell_type": "code",
   "execution_count": 44,
   "metadata": {},
   "outputs": [
    {
     "name": "stdout",
     "output_type": "stream",
     "text": [
      "[[38637 17875]\n",
      " [ 1679  3311]]\n",
      "roc - 0.673611276204731\n"
     ]
    }
   ],
   "source": [
    "final_log = LogisticRegression(C = 0.001, max_iter=100, solver='sag', fit_intercept=True,\n",
    "                             class_weight='balanced')\n",
    "final_log.fit(x_train, y_train)\n",
    "test_pred = final_log.predict(x_test)\n",
    "print(metrics.confusion_matrix(y_test, test_pred))\n",
    "print(\"roc - {}\".format(metrics.roc_auc_score(y_test, test_pred)))"
   ]
  },
  {
   "cell_type": "code",
   "execution_count": 45,
   "metadata": {
    "scrolled": true
   },
   "outputs": [
    {
     "name": "stdout",
     "output_type": "stream",
     "text": [
      "[[226006    164]\n",
      " [ 19681    154]]\n",
      "roc - 0.5035194675835113\n"
     ]
    }
   ],
   "source": [
    "from sklearn.model_selection import StratifiedKFold\n",
    "\n",
    "from sklearn.neural_network import MLPClassifier\n",
    "\n",
    "from sklearn.model_selection import cross_val_predict\n",
    "\n",
    "# 80-20 train-test case\n",
    "mlp_kf = StratifiedKFold(n_splits=5, random_state=None, shuffle=False)\n",
    "\n",
    "#mean of number of hidden nodes(1 layer is enough for) between input nodes and output nodes\n",
    "total_hidden_nodes = int((2 + (len(samples.columns)-1))/2)\n",
    "mlp = MLPClassifier(hidden_layer_sizes=(total_hidden_nodes-10,),activation='logistic', solver='sgd', \n",
    "                    batch_size=400, learning_rate_init=0.01, max_iter=200, alpha=0.0001)\n",
    "y_pred = cross_val_predict(estimator=mlp , X=x_train, y=y_train, cv=mlp_kf)\n",
    "from sklearn import metrics\n",
    "\n",
    "print(metrics.confusion_matrix(y_train, y_pred))\n",
    "# print(metrics.classification_report(train_label ,y_pred))\n",
    "print(\"roc - {}\".format(metrics.roc_auc_score(y_train, y_pred)))"
   ]
  },
  {
   "cell_type": "code",
   "execution_count": 46,
   "metadata": {},
   "outputs": [
    {
     "name": "stdout",
     "output_type": "stream",
     "text": [
      "[[56490    22]\n",
      " [ 4972    18]]\n",
      "roc - 0.5016089582903066\n"
     ]
    }
   ],
   "source": [
    "final_mlp = MLPClassifier(hidden_layer_sizes=(total_hidden_nodes-10,),activation='logistic', solver='sgd', \n",
    "                    batch_size=400, learning_rate_init=0.01, max_iter=200, alpha=0.0001)\n",
    "final_mlp.fit(x_train, y_train)\n",
    "test_pred = final_mlp.predict(x_test)\n",
    "print(metrics.confusion_matrix(y_test, test_pred))\n",
    "print(\"roc - {}\".format(metrics.roc_auc_score(y_test, test_pred)))"
   ]
  },
  {
   "cell_type": "code",
   "execution_count": 48,
   "metadata": {},
   "outputs": [
    {
     "data": {
      "text/plain": [
       "15"
      ]
     },
     "execution_count": 48,
     "metadata": {},
     "output_type": "execute_result"
    }
   ],
   "source": [
    "len(to_drop)"
   ]
  },
  {
   "cell_type": "code",
   "execution_count": 51,
   "metadata": {},
   "outputs": [
    {
     "data": {
      "text/plain": [
       "(307507, 230)"
      ]
     },
     "execution_count": 51,
     "metadata": {},
     "output_type": "execute_result"
    }
   ],
   "source": [
    "train_data.shape"
   ]
  },
  {
   "cell_type": "code",
   "execution_count": 52,
   "metadata": {},
   "outputs": [
    {
     "data": {
      "image/png": "[encoded data removed]",
      "text/plain": [
       "<Figure size 432x288 with 1 Axes>"
      ]
     },
     "metadata": {
      "needs_background": "light"
     },
     "output_type": "display_data"
    }
   ],
   "source": [
    "y_train.astype(int).plot.hist();"
   ]
  },
  {
   "cell_type": "code",
   "execution_count": 54,
   "metadata": {},
   "outputs": [
    {
     "data": {
      "text/plain": [
       "(246005,)"
      ]
     },
     "execution_count": 54,
     "metadata": {},
     "output_type": "execute_result"
    }
   ],
   "source": [
    "y_train.shape"
   ]
  },
  {
   "cell_type": "code",
   "execution_count": 55,
   "metadata": {},
   "outputs": [
    {
     "data": {
      "text/plain": [
       "(61502,)"
      ]
     },
     "execution_count": 55,
     "metadata": {},
     "output_type": "execute_result"
    }
   ],
   "source": [
    "y_test.shape\n",
    "\n"
   ]
  }
 ],
 "metadata": {
  "kernelspec": {
   "display_name": "Python 3",
   "language": "python",
   "name": "python3"
  },
  "language_info": {
   "codemirror_mode": {
    "name": "ipython",
    "version": 3
   },
   "file_extension": ".py",
   "mimetype": "text/x-python",
   "name": "python",
   "nbconvert_exporter": "python",
   "pygments_lexer": "ipython3",
   "version": "3.7.7"
  }
 },
 "nbformat": 4,
 "nbformat_minor": 4
}
