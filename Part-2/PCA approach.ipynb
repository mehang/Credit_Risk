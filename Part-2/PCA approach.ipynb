{
 "cells": [
  {
   "cell_type": "code",
   "execution_count": 20,
   "metadata": {},
   "outputs": [],
   "source": [
    "from sklearn.decomposition import PCA\n",
    "from sklearn.pipeline import Pipeline\n",
    "import matplotlib.pyplot as plt\n",
    "\n",
    "#numpy and pandas for data manipulation\n",
    "import numpy as np\n",
    "import pandas as pd\n",
    "\n",
    "from sklearn.model_selection import KFold\n",
    "\n",
    "from sklearn.model_selection import StratifiedKFold\n",
    "\n",
    "from sklearn.linear_model import LogisticRegression\n",
    "\n",
    "from sklearn.model_selection import cross_val_predict\n",
    "\n",
    "from sklearn.preprocessing import StandardScaler\n",
    "from sklearn.impute import SimpleImputer\n",
    "\n",
    "from sklearn.model_selection import train_test_split\n",
    "from sklearn import metrics\n",
    "from sklearn.preprocessing import LabelEncoder\n",
    "\n",
    "from itertools import product\n",
    "\n",
    "\n",
    "samples = pd.read_csv('preprocessed-75.csv')"
   ]
  },
  {
   "cell_type": "code",
   "execution_count": 21,
   "metadata": {},
   "outputs": [
    {
     "name": "stdout",
     "output_type": "stream",
     "text": [
      "8 columns were label encoded.\n",
      "Training data shape:  (307507, 848)\n"
     ]
    }
   ],
   "source": [
    "# Create a label encoder object\n",
    "le = LabelEncoder()\n",
    "le_count = 0\n",
    "\n",
    "# Iterate through the columns\n",
    "for col in samples:\n",
    "    if samples[col].dtype == 'bool':\n",
    "        # If 2 or fewer unique categories\n",
    "        if len(list(samples[col].unique())) <= 2:\n",
    "            # Train on the training data\n",
    "            le.fit(samples[col])\n",
    "            # Transform \n",
    "            samples[col] = le.transform(samples[col])\n",
    "            \n",
    "            # Keep track of how many columns were label encoded\n",
    "            le_count += 1\n",
    "print('%d columns were label encoded.' % le_count)\n",
    "\n",
    "train_label = samples['TARGET']\n",
    "samples = samples.drop(columns=['TARGET'])\n",
    "\n",
    "# one-hot encoding of categorical variables\n",
    "samples = pd.get_dummies(samples)\n",
    "\n",
    "\n",
    "\n",
    "# Median imputation of missing values\n",
    "imputer = SimpleImputer(strategy = 'median')\n",
    "\n",
    "# Scale each feature to -1 and 1\n",
    "scaler = StandardScaler()\n",
    "\n",
    "# Fit on the training data\n",
    "imputer.fit(samples)\n",
    "\n",
    "# Transform both training and testing data\n",
    "samples = imputer.transform(samples)\n",
    "\n",
    "# Repeat with the scaler\n",
    "scaler.fit(samples)\n",
    "samples = scaler.transform(samples)\n",
    "\n",
    "\n",
    "print('Training data shape: ', samples.shape)\n",
    "\n",
    "pipeline = Pipeline(steps = [('pca', PCA())])\n",
    "\n",
    "train_pca = pipeline.fit_transform(samples)\n"
   ]
  },
  {
   "cell_type": "code",
   "execution_count": 22,
   "metadata": {},
   "outputs": [
    {
     "data": {
      "image/png": "[encoded data removed]",
      "text/plain": [
       "<Figure size 720x576 with 1 Axes>"
      ]
     },
     "metadata": {
      "needs_background": "light"
     },
     "output_type": "display_data"
    }
   ],
   "source": [
    "pca = pipeline.named_steps['pca']\n",
    "\n",
    "plt.figure(figsize = (10, 8))\n",
    "plt.plot(list(range(samples.shape[1])), np.cumsum(pca.explained_variance_ratio_), 'r-')\n",
    "plt.xlabel('Number of PC'); plt.ylabel('Cumulative Variance Explained');\n",
    "plt.title('Cumulative Variance Explained with PCA');"
   ]
  },
  {
   "cell_type": "code",
   "execution_count": 23,
   "metadata": {},
   "outputs": [
    {
     "data": {
      "text/plain": [
       "848"
      ]
     },
     "execution_count": 23,
     "metadata": {},
     "output_type": "execute_result"
    }
   ],
   "source": [
    "samples.shape[1]"
   ]
  },
  {
   "cell_type": "code",
   "execution_count": 24,
   "metadata": {},
   "outputs": [
    {
     "name": "stdout",
     "output_type": "stream",
     "text": [
      "2 principal components account for 6.5389% of the variance.\n"
     ]
    }
   ],
   "source": [
    "print('2 principal components account for {:.4f}% of the variance.'.format(100 * np.sum(pca.explained_variance_ratio_[:2])))"
   ]
  },
  {
   "cell_type": "code",
   "execution_count": 25,
   "metadata": {},
   "outputs": [
    {
     "data": {
      "text/plain": [
       "848"
      ]
     },
     "execution_count": 25,
     "metadata": {},
     "output_type": "execute_result"
    }
   ],
   "source": [
    "len(train_pca[0])"
   ]
  },
  {
   "cell_type": "code",
   "execution_count": 26,
   "metadata": {},
   "outputs": [
    {
     "data": {
      "text/plain": [
       "array([0.04298675, 0.02240265])"
      ]
     },
     "execution_count": 26,
     "metadata": {},
     "output_type": "execute_result"
    }
   ],
   "source": [
    "pca.explained_variance_ratio_[:2]"
   ]
  },
  {
   "cell_type": "code",
   "execution_count": 27,
   "metadata": {},
   "outputs": [],
   "source": [
    "x_train,x_test, y_train, y_test = train_test_split([x[:250] for x in train_pca], train_label, test_size=0.2)"
   ]
  },
  {
   "cell_type": "code",
   "execution_count": 28,
   "metadata": {},
   "outputs": [],
   "source": [
    "data = pd.DataFrame(x_train)"
   ]
  },
  {
   "cell_type": "code",
   "execution_count": 29,
   "metadata": {},
   "outputs": [
    {
     "data": {
      "text/plain": [
       "246005"
      ]
     },
     "execution_count": 29,
     "metadata": {},
     "output_type": "execute_result"
    }
   ],
   "source": [
    "len(data)"
   ]
  },
  {
   "cell_type": "code",
   "execution_count": 30,
   "metadata": {},
   "outputs": [
    {
     "name": "stderr",
     "output_type": "stream",
     "text": [
      "/usr/local/lib/python3.7/site-packages/sklearn/linear_model/_sag.py:330: ConvergenceWarning: The max_iter was reached which means the coef_ did not converge\n",
      "  \"the coef_ did not converge\", ConvergenceWarning)\n"
     ]
    },
    {
     "name": "stdout",
     "output_type": "stream",
     "text": [
      "[[155216  70920]\n",
      " [  6349  13520]]\n",
      "roc - 0.6834202042980346\n"
     ]
    }
   ],
   "source": [
    "# 80-20 train-test case\n",
    "kf = StratifiedKFold(n_splits=5, random_state=None, shuffle=False)\n",
    "log_reg = LogisticRegression(C = 0.001, max_iter=400, solver='sag', fit_intercept=True,\n",
    "                             class_weight='balanced')\n",
    "y_pred = cross_val_predict(estimator=log_reg , X=x_train, y=y_train, cv=kf)\n",
    "from sklearn import metrics\n",
    "\n",
    "print(metrics.confusion_matrix(y_train, y_pred))\n",
    "# print(metrics.classification_report(train_label ,y_pred))\n",
    "print(\"roc - {}\".format(metrics.roc_auc_score(y_train, y_pred)))"
   ]
  },
  {
   "cell_type": "code",
   "execution_count": 19,
   "metadata": {},
   "outputs": [
    {
     "data": {
      "text/plain": [
       "307507"
      ]
     },
     "execution_count": 19,
     "metadata": {},
     "output_type": "execute_result"
    }
   ],
   "source": [
    "len(train_pca)"
   ]
  },
  {
   "cell_type": "code",
   "execution_count": null,
   "metadata": {},
   "outputs": [],
   "source": [
    "train_pca"
   ]
  },
  {
   "cell_type": "code",
   "execution_count": null,
   "metadata": {},
   "outputs": [],
   "source": [
    "len([x[:250] for x in train_pca])"
   ]
  },
  {
   "cell_type": "code",
   "execution_count": null,
   "metadata": {},
   "outputs": [],
   "source": [
    "len(samples)"
   ]
  },
  {
   "cell_type": "code",
   "execution_count": null,
   "metadata": {},
   "outputs": [],
   "source": []
  }
 ],
 "metadata": {
  "kernelspec": {
   "display_name": "Python 3",
   "language": "python",
   "name": "python3"
  },
  "language_info": {
   "codemirror_mode": {
    "name": "ipython",
    "version": 3
   },
   "file_extension": ".py",
   "mimetype": "text/x-python",
   "name": "python",
   "nbconvert_exporter": "python",
   "pygments_lexer": "ipython3",
   "version": "3.7.7"
  }
 },
 "nbformat": 4,
 "nbformat_minor": 4
}
