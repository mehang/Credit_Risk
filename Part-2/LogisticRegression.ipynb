{
 "cells": [
  {
   "cell_type": "code",
   "execution_count": 18,
   "metadata": {},
   "outputs": [
    {
     "name": "stdout",
     "output_type": "stream",
     "text": [
      "Training data shape:  (307507, 253)\n"
     ]
    }
   ],
   "source": [
    "#numpy and pandas for data manipulation\n",
    "import numpy as np\n",
    "import pandas as pd\n",
    "\n",
    "from sklearn.model_selection import KFold\n",
    "\n",
    "from sklearn.model_selection import StratifiedKFold\n",
    "\n",
    "from sklearn.linear_model import LogisticRegression\n",
    "\n",
    "from sklearn.model_selection import cross_val_predict\n",
    "\n",
    "from sklearn.preprocessing import StandardScaler\n",
    "from sklearn.impute import SimpleImputer\n",
    "\n",
    "from sklearn.model_selection import train_test_split\n",
    "from sklearn import metrics\n",
    "\n",
    "from itertools import product\n",
    "\n",
    "\n",
    "samples = pd.read_csv('features-250.csv')\n",
    "domain_info = pd.read_csv('domain_info.csv')\n",
    "samples['CREDIT_INCOME_PERCENT'] = domain_info['CREDIT_INCOME_PERCENT']\n",
    "samples['ANNUITY_INCOME_PERCENT'] = domain_info['ANNUITY_INCOME_PERCENT']\n",
    "samples['CREDIT_TERM'] = domain_info['CREDIT_TERM']\n",
    "samples['DAYS_EMPLOYED_PERCENT'] = domain_info['DAYS_EMPLOYED_PERCENT']\n",
    "# # Create a label encoder object\n",
    "# le = LabelEncoder()\n",
    "# le_count = 0\n",
    "\n",
    "# # Iterate through the columns\n",
    "# for col in samples:\n",
    "#     if samples[col].dtype == 'bool':\n",
    "#         # If 2 or fewer unique categories\n",
    "#         if len(list(samples[col].unique())) <= 2:\n",
    "#             # Train on the training data\n",
    "#             le.fit(samples[col])\n",
    "#             # Transform \n",
    "#             samples[col] = le.transform(samples[col])\n",
    "            \n",
    "#             # Keep track of how many columns were label encoded\n",
    "#             le_count += 1\n",
    "# print('%d columns were label encoded.' % le_count)\n",
    "\n",
    "train_label = samples['TARGET']\n",
    "samples = samples.drop(columns=['TARGET'])\n",
    "\n",
    "# one-hot encoding of categorical variables\n",
    "# samples = pd.get_dummies(samples)\n",
    "\n",
    "# Median imputation of missing values\n",
    "imputer = SimpleImputer(strategy = 'median')\n",
    "\n",
    "# Scale each feature to -1 and 1\n",
    "scaler = StandardScaler()\n",
    "\n",
    "# Fit on the training data\n",
    "imputer.fit(samples)\n",
    "\n",
    "# Transform both training and testing data\n",
    "samples = imputer.transform(samples)\n",
    "\n",
    "# Repeat with the scaler\n",
    "scaler.fit(samples)\n",
    "samples = scaler.transform(samples)\n",
    "\n",
    "print('Training data shape: ', samples.shape)\n"
   ]
  },
  {
   "cell_type": "code",
   "execution_count": 19,
   "metadata": {},
   "outputs": [],
   "source": [
    "x_train,x_test, y_train, y_test = train_test_split(samples, train_label, stratify=train_label, test_size=0.2)"
   ]
  },
  {
   "cell_type": "code",
   "execution_count": 20,
   "metadata": {},
   "outputs": [],
   "source": [
    "def classify(arr, threshold):\n",
    "    return [1 if row[1] >= threshold else 0 for row in arr]"
   ]
  },
  {
   "cell_type": "code",
   "execution_count": null,
   "metadata": {},
   "outputs": [
    {
     "name": "stdout",
     "output_type": "stream",
     "text": [
      "Hyperparameters - (0.01, 1000, 'balanced')\n",
      "roc - 0.6964056491899907\n",
      "Hyperparameters - (0.01, 600, 'balanced')\n",
      "roc - 0.6964056491899907\n",
      "Hyperparameters - (0.01, 400, 'balanced')\n",
      "roc - 0.6964056491899907\n",
      "Hyperparameters - (0.001, 1000, 'balanced')\n",
      "roc - 0.6965379154096498\n",
      "Hyperparameters - (0.001, 600, 'balanced')\n",
      "roc - 0.6965379154096498\n",
      "Hyperparameters - (0.001, 400, 'balanced')\n",
      "roc - 0.6965379154096498\n",
      "Hyperparameters - (0.0001, 1000, 'balanced')\n",
      "roc - 0.6968591012317166\n",
      "Hyperparameters - (0.0001, 600, 'balanced')\n",
      "roc - 0.6968797708426506\n",
      "Hyperparameters - (0.0001, 400, 'balanced')\n",
      "roc - 0.6968524663828365\n",
      "Hyperparameters - (0.1, 1000, 'balanced')\n",
      "roc - 0.6965510179542367\n",
      "Hyperparameters - (0.1, 600, 'balanced')\n"
     ]
    }
   ],
   "source": [
    "# C, max iter, weight balancing\n",
    "hyperparameters = product(tuple((0.01,0.001,0.0001,0.1)), tuple((1000,600, 400)), \n",
    "                               tuple(( 'balanced',)))\n",
    "CLASS_THRESHOLDS = [0.3,0.4,0.5,0.6,0.7]\n",
    "for hp in hyperparameters:\n",
    "    # 80-20 train-test case\n",
    "    kf = StratifiedKFold(n_splits=5, random_state=None, shuffle=False)\n",
    "    log_reg = LogisticRegression(C = hp[0], max_iter=hp[1], solver='sag', fit_intercept=True,\n",
    "                                 class_weight=hp[2], n_jobs=-1)\n",
    "#     tmp_results = cross_val_predict(estimator=log_reg , X=x_train, y=y_train, cv=kf, method='predict_proba')\n",
    "    print(\"Hyperparameters - {}\".format(hp))\n",
    "    y_pred = cross_val_predict(estimator=log_reg , X=x_train, y=y_train, cv=kf)\n",
    "\n",
    "    #print(metrics.confusion_matrix(y_train, y_pred))\n",
    "    # print(metrics.classification_report(train_label ,y_pred))\n",
    "    print(\"roc - {}\".format(metrics.roc_auc_score(y_train, y_pred)))\n",
    "    \n",
    "    \n",
    "    "
   ]
  },
  {
   "cell_type": "code",
   "execution_count": 6,
   "metadata": {},
   "outputs": [
    {
     "name": "stdout",
     "output_type": "stream",
     "text": [
      "roc - 0.6979717025568687\n"
     ]
    }
   ],
   "source": [
    "kf = StratifiedKFold(n_splits=5, random_state=None, shuffle=False)\n",
    "log_reg = LogisticRegression(C = 2, max_iter=400, solver='sag', fit_intercept=True,\n",
    "                             class_weight='balanced', n_jobs=-1)\n",
    "#     tmp_results = cross_val_predict(estimator=log_reg , X=x_train, y=y_train, cv=kf, method='predict_proba')\n",
    "\n",
    "y_pred = cross_val_predict(estimator=log_reg , X=x_train, y=y_train, cv=kf)\n",
    "\n",
    "#print(metrics.confusion_matrix(y_train, y_pred))\n",
    "# print(metrics.classification_report(train_label ,y_pred))\n",
    "print(\"roc - {}\".format(metrics.roc_auc_score(y_train, y_pred)))"
   ]
  },
  {
   "cell_type": "code",
   "execution_count": 21,
   "metadata": {},
   "outputs": [
    {
     "name": "stdout",
     "output_type": "stream",
     "text": [
      "roc - 0.6947474524684132\n"
     ]
    }
   ],
   "source": [
    "kf = StratifiedKFold(n_splits=5, random_state=None, shuffle=False)\n",
    "log_reg = LogisticRegression(C = 0.001, max_iter=1, solver='sag', fit_intercept=True,\n",
    "                             class_weight='balanced', n_jobs=-1)\n",
    "#     tmp_results = cross_val_predict(estimator=log_reg , X=x_train, y=y_train, cv=kf, method='predict_proba')\n",
    "\n",
    "y_pred = cross_val_predict(estimator=log_reg , X=x_train, y=y_train, cv=kf)\n",
    "\n",
    "#print(metrics.confusion_matrix(y_train, y_pred))\n",
    "# print(metrics.classification_report(train_label ,y_pred))\n",
    "print(\"roc - {}\".format(metrics.roc_auc_score(y_train, y_pred)))"
   ]
  },
  {
   "cell_type": "code",
   "execution_count": 13,
   "metadata": {},
   "outputs": [],
   "source": []
  },
  {
   "cell_type": "code",
   "execution_count": 14,
   "metadata": {},
   "outputs": [
    {
     "data": {
      "text/plain": [
       "307507"
      ]
     },
     "execution_count": 14,
     "metadata": {},
     "output_type": "execute_result"
    }
   ],
   "source": [
    "len(test_sam)"
   ]
  },
  {
   "cell_type": "code",
   "execution_count": 15,
   "metadata": {},
   "outputs": [
    {
     "data": {
      "text/plain": [
       "307507"
      ]
     },
     "execution_count": 15,
     "metadata": {},
     "output_type": "execute_result"
    }
   ],
   "source": [
    "len(samples)"
   ]
  },
  {
   "cell_type": "code",
   "execution_count": null,
   "metadata": {},
   "outputs": [],
   "source": []
  }
 ],
 "metadata": {
  "kernelspec": {
   "display_name": "Python 3",
   "language": "python",
   "name": "python3"
  },
  "language_info": {
   "codemirror_mode": {
    "name": "ipython",
    "version": 3
   },
   "file_extension": ".py",
   "mimetype": "text/x-python",
   "name": "python",
   "nbconvert_exporter": "python",
   "pygments_lexer": "ipython3",
   "version": "3.7.7"
  }
 },
 "nbformat": 4,
 "nbformat_minor": 4
}
