{
 "cells": [
  {
   "cell_type": "code",
   "execution_count": 2,
   "metadata": {},
   "outputs": [
    {
     "name": "stdout",
     "output_type": "stream",
     "text": [
      "8 columns were label encoded.\n",
      "0         1\n",
      "1         0\n",
      "2         0\n",
      "3         0\n",
      "4         0\n",
      "         ..\n",
      "307502    0\n",
      "307503    0\n",
      "307504    0\n",
      "307505    1\n",
      "307506    0\n",
      "Name: TARGET, Length: 307507, dtype: int64\n"
     ]
    }
   ],
   "source": [
    "#numpy and pandas for data manipulation\n",
    "import numpy as np\n",
    "import pandas as pd\n",
    "\n",
    "from sklearn.model_selection import KFold\n",
    "\n",
    "from sklearn.model_selection import StratifiedKFold\n",
    "\n",
    "from sklearn.ensemble import RandomForestClassifier\n",
    "\n",
    "from sklearn.model_selection import cross_val_predict\n",
    "\n",
    "from sklearn.preprocessing import StandardScaler\n",
    "from sklearn.impute import SimpleImputer\n",
    "\n",
    "from sklearn.model_selection import train_test_split\n",
    "from sklearn import metrics\n",
    "\n",
    "#sklearn preprocessing for dealing with categorical variables\n",
    "from sklearn.preprocessing import LabelEncoder\n",
    "\n",
    "from itertools import product\n",
    "\n",
    "\n",
    "samples = pd.read_csv('preprocessed-75.csv')\n",
    "\n",
    "# Create a label encoder object\n",
    "le = LabelEncoder()\n",
    "le_count = 0\n",
    "\n",
    "# Iterate through the columns\n",
    "for col in samples:\n",
    "    if samples[col].dtype == 'bool':\n",
    "        # If 2 or fewer unique categories\n",
    "        if len(list(samples[col].unique())) <= 2:\n",
    "            # Train on the training data\n",
    "            le.fit(samples[col])\n",
    "            # Transform \n",
    "            samples[col] = le.transform(samples[col])\n",
    "            \n",
    "            # Keep track of how many columns were label encoded\n",
    "            le_count += 1\n",
    "print('%d columns were label encoded.' % le_count)\n",
    "\n",
    "\n",
    "train_label = samples['TARGET']\n",
    "print(train_label)\n",
    "\n",
    "\n",
    "\n",
    "# one-hot encoding of categorical variables\n",
    "samples = pd.get_dummies(samples)\n",
    "correlations = samples.corr()['TARGET'].abs().sort_values(ascending=False)\n",
    "#keeping only 250 column that were highly correlated with target\n",
    "samples = samples.drop(columns = correlations[250:].index.values.tolist())"
   ]
  },
  {
   "cell_type": "code",
   "execution_count": 3,
   "metadata": {},
   "outputs": [
    {
     "data": {
      "text/plain": [
       "Index(['TARGET', 'NAME_CONTRACT_TYPE', 'CODE_GENDER', 'FLAG_OWN_CAR',\n",
       "       'AMT_CREDIT', 'REGION_POPULATION_RELATIVE', 'DAYS_BIRTH',\n",
       "       'DAYS_EMPLOYED', 'DAYS_REGISTRATION', 'DAYS_ID_PUBLISH',\n",
       "       ...\n",
       "       'OCCUPATION_TYPE_Drivers', 'OCCUPATION_TYPE_Laborers',\n",
       "       'OCCUPATION_TYPE_Low-skill Laborers',\n",
       "       'ORGANIZATION_TYPE_Business Entity Type 3',\n",
       "       'ORGANIZATION_TYPE_Self-employed', 'ORGANIZATION_TYPE_XNA',\n",
       "       'FONDKAPREMONT_MODE_reg oper account', 'HOUSETYPE_MODE_block of flats',\n",
       "       'WALLSMATERIAL_MODE_Panel', 'EMERGENCYSTATE_MODE_No'],\n",
       "      dtype='object', length=250)"
      ]
     },
     "execution_count": 3,
     "metadata": {},
     "output_type": "execute_result"
    }
   ],
   "source": [
    "samples.columns"
   ]
  },
  {
   "cell_type": "code",
   "execution_count": 4,
   "metadata": {},
   "outputs": [
    {
     "data": {
      "text/plain": [
       "250"
      ]
     },
     "execution_count": 4,
     "metadata": {},
     "output_type": "execute_result"
    }
   ],
   "source": [
    "len(samples.columns)"
   ]
  },
  {
   "cell_type": "code",
   "execution_count": 5,
   "metadata": {},
   "outputs": [
    {
     "data": {
      "text/plain": [
       "0         1\n",
       "1         0\n",
       "2         0\n",
       "3         0\n",
       "4         0\n",
       "         ..\n",
       "307502    0\n",
       "307503    0\n",
       "307504    0\n",
       "307505    1\n",
       "307506    0\n",
       "Name: TARGET, Length: 307507, dtype: int64"
      ]
     },
     "execution_count": 5,
     "metadata": {},
     "output_type": "execute_result"
    }
   ],
   "source": [
    "samples['TARGET']"
   ]
  },
  {
   "cell_type": "code",
   "execution_count": 6,
   "metadata": {},
   "outputs": [],
   "source": [
    "samples.to_csv('features-250.csv',index=False)"
   ]
  },
  {
   "cell_type": "code",
   "execution_count": 16,
   "metadata": {},
   "outputs": [
    {
     "name": "stdout",
     "output_type": "stream",
     "text": [
      "There are 57 columns with greater than 70% missing values.\n"
     ]
    }
   ],
   "source": [
    "def remove_missing_columns(train, threshold = 90):\n",
    "    # Calculate missing stats for train\n",
    "    train_miss = pd.DataFrame(train.isnull().sum())\n",
    "    train_miss['percent'] = 100 * train_miss[0] / len(train)\n",
    "    \n",
    "    # list of missing columns for train and test\n",
    "    missing_train_columns = list(train_miss.index[train_miss['percent'] > threshold])\n",
    "    \n",
    "    # Combine the two lists together\n",
    "    missing_columns = list(set(missing_train_columns))\n",
    "    \n",
    "    # Print information\n",
    "    print('There are %d columns with greater than %d%% missing values.' % (len(missing_columns), threshold))\n",
    "    \n",
    "    # Drop the missing columns and return\n",
    "    return train.drop(columns = missing_columns)\n",
    "new_samples = remove_missing_columns(samples, 70)"
   ]
  },
  {
   "cell_type": "code",
   "execution_count": 19,
   "metadata": {},
   "outputs": [
    {
     "data": {
      "text/plain": [
       "193"
      ]
     },
     "execution_count": 19,
     "metadata": {},
     "output_type": "execute_result"
    }
   ],
   "source": [
    "len(new_samples.columns)"
   ]
  },
  {
   "cell_type": "code",
   "execution_count": 21,
   "metadata": {},
   "outputs": [],
   "source": [
    "new_corr = new_samples.corr()['TARGET']"
   ]
  },
  {
   "cell_type": "code",
   "execution_count": 24,
   "metadata": {},
   "outputs": [
    {
     "data": {
      "text/plain": [
       "EXT_SOURCE_3                                  -0.178926\n",
       "EXT_SOURCE_2                                  -0.160471\n",
       "EXT_SOURCE_1                                  -0.155317\n",
       "previous_NAME_CONTRACT_STATUS_Approved_mean   -0.063526\n",
       "client_installments_AMT_PAYMENT_min_sum       -0.058399\n",
       "                                                 ...   \n",
       "bureau_CREDIT_ACTIVE_Active_mean               0.077356\n",
       "previous_NAME_CONTRACT_STATUS_Refused_mean     0.077681\n",
       "DAYS_BIRTH                                     0.078242\n",
       "bureau_DAYS_CREDIT_mean                        0.089731\n",
       "TARGET                                         1.000000\n",
       "Name: TARGET, Length: 193, dtype: float64"
      ]
     },
     "execution_count": 24,
     "metadata": {},
     "output_type": "execute_result"
    }
   ],
   "source": [
    "new_corr.sort_values()"
   ]
  },
  {
   "cell_type": "code",
   "execution_count": 25,
   "metadata": {},
   "outputs": [],
   "source": [
    "new_samples.to_csv('features-193.csv',index=False)"
   ]
  },
  {
   "cell_type": "code",
   "execution_count": null,
   "metadata": {},
   "outputs": [],
   "source": []
  }
 ],
 "metadata": {
  "kernelspec": {
   "display_name": "Python 3",
   "language": "python",
   "name": "python3"
  },
  "language_info": {
   "codemirror_mode": {
    "name": "ipython",
    "version": 3
   },
   "file_extension": ".py",
   "mimetype": "text/x-python",
   "name": "python",
   "nbconvert_exporter": "python",
   "pygments_lexer": "ipython3",
   "version": "3.7.7"
  }
 },
 "nbformat": 4,
 "nbformat_minor": 4
}
