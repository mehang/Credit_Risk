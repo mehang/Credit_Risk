{
 "cells": [
  {
   "cell_type": "code",
   "execution_count": 3,
   "metadata": {},
   "outputs": [],
   "source": [
    "#numpy and pandas for data manipulation\n",
    "import numpy as np\n",
    "import pandas as pd\n",
    "\n",
    "#sklearn preprocessing for dealing with categorical variables\n",
    "from sklearn.preprocessing import LabelEncoder\n",
    "from sklearn.model_selection import KFold\n",
    "\n",
    "from sklearn.model_selection import StratifiedKFold\n",
    "\n",
    "from sklearn.linear_model import LogisticRegression\n",
    "\n",
    "from sklearn.model_selection import cross_val_predict"
   ]
  },
  {
   "cell_type": "code",
   "execution_count": 4,
   "metadata": {},
   "outputs": [
    {
     "name": "stdout",
     "output_type": "stream",
     "text": [
      "0 - 282686\n",
      "1 - 24825\n"
     ]
    }
   ],
   "source": [
    "file_data = pd.read_csv('data/application_train.csv')\n",
    "max_size = file_data['TARGET'].value_counts().max()\n",
    "print(\"0 - \" + str(max_size))\n",
    "print(\"1 - \" + str(file_data['TARGET'].value_counts().min()))\n",
    "lst = [file_data]\n",
    "for class_index, group in file_data.groupby('TARGET'):\n",
    "    lst.append(group.sample(max_size-len(group), replace=True))\n",
    "samples = pd.concat(lst)"
   ]
  },
  {
   "cell_type": "code",
   "execution_count": 5,
   "metadata": {},
   "outputs": [
    {
     "name": "stdout",
     "output_type": "stream",
     "text": [
      "1 - 282686\n"
     ]
    }
   ],
   "source": [
    "print(\"1 - \" + str(samples['TARGET'].value_counts().min()))"
   ]
  },
  {
   "cell_type": "code",
   "execution_count": 6,
   "metadata": {},
   "outputs": [],
   "source": [
    "# # Create an anomalous flag column\n",
    "samples['DAYS_EMPLOYED_ANOM'] = samples[\"DAYS_EMPLOYED\"] == 365243\n",
    "\n",
    "# # # Replace the anomalous values with nan\n",
    "samples['DAYS_EMPLOYED'].replace({365243: np.nan}, inplace = True)\n",
    "\n",
    "# Treating as outlier and removing\n",
    "samples = samples[samples['CODE_GENDER'] != 'XNA']\n",
    "\n",
    "train_label = samples['TARGET']\n",
    "train_data = samples.drop(columns=['TARGET'])\n",
    "\n",
    "correlations = samples.corr()\n",
    "\n",
    "# Select upper triangle of correlation matrix\n",
    "upper = correlations.where(np.triu(np.ones(correlations.shape), k=1).astype(np.bool))\n",
    "\n",
    "# Find index of feature columns with correlation greater than 0.95\n",
    "to_drop = [column for column in upper.columns if any(upper[column] > 0.99)]\n",
    "\n",
    "# Drop highly correlated features\n",
    "train_data = train_data.drop(train_data[to_drop], axis=1)"
   ]
  },
  {
   "cell_type": "code",
   "execution_count": 7,
   "metadata": {},
   "outputs": [
    {
     "name": "stdout",
     "output_type": "stream",
     "text": [
      "4 columns were label encoded.\n"
     ]
    }
   ],
   "source": [
    "# Create a label encoder object\n",
    "le = LabelEncoder()\n",
    "le_count = 0\n",
    "\n",
    "# Iterate through the columns\n",
    "for col in train_data:\n",
    "    if train_data[col].dtype == 'object':\n",
    "        # If 2 or fewer unique categories\n",
    "        if len(list(train_data[col].unique())) <= 2:\n",
    "            # Train on the training data\n",
    "            le.fit(train_data[col])\n",
    "            # Transform \n",
    "            train_data[col] = le.transform(train_data[col])\n",
    "            \n",
    "            # Keep track of how many columns were label encoded\n",
    "            le_count += 1\n",
    "print('%d columns were label encoded.' % le_count)"
   ]
  },
  {
   "cell_type": "code",
   "execution_count": 8,
   "metadata": {},
   "outputs": [],
   "source": [
    "# one-hot encoding of categorical variables\n",
    "train_data = pd.get_dummies(train_data)"
   ]
  },
  {
   "cell_type": "code",
   "execution_count": 9,
   "metadata": {},
   "outputs": [],
   "source": [
    "train_data['CREDIT_INCOME_PERCENT'] = train_data['AMT_CREDIT'] / train_data['AMT_INCOME_TOTAL']\n",
    "train_data['ANNUITY_INCOME_PERCENT'] = train_data['AMT_ANNUITY'] / train_data['AMT_INCOME_TOTAL']\n",
    "train_data['CREDIT_TERM'] = train_data['AMT_ANNUITY'] / train_data['AMT_CREDIT']\n",
    "train_data['DAYS_EMPLOYED_PERCENT'] = train_data['DAYS_EMPLOYED'] / train_data['DAYS_BIRTH']"
   ]
  },
  {
   "cell_type": "code",
   "execution_count": 10,
   "metadata": {},
   "outputs": [
    {
     "name": "stdout",
     "output_type": "stream",
     "text": [
      "Training data shape:  (565368, 231)\n"
     ]
    }
   ],
   "source": [
    "from sklearn.preprocessing import MinMaxScaler\n",
    "from sklearn.impute import SimpleImputer\n",
    "\n",
    "\n",
    "# Median imputation of missing values\n",
    "imputer = SimpleImputer(strategy = 'median')\n",
    "\n",
    "# Scale each feature to 0-1\n",
    "scaler = MinMaxScaler(feature_range = (0, 1))\n",
    "\n",
    "# Fit on the training data\n",
    "imputer.fit(train_data)\n",
    "\n",
    "# Transform both training and testing data\n",
    "train_data = imputer.transform(train_data)\n",
    "\n",
    "# Repeat with the scaler\n",
    "scaler.fit(train_data)\n",
    "train_data = scaler.transform(train_data)\n",
    "\n",
    "print('Training data shape: ', train_data.shape)"
   ]
  },
  {
   "cell_type": "code",
   "execution_count": 11,
   "metadata": {},
   "outputs": [],
   "source": [
    "from sklearn.model_selection import train_test_split\n",
    "x_train,x_test, y_train, y_test = train_test_split(train_data, train_label, stratify=train_label, test_size=0.2)"
   ]
  },
  {
   "cell_type": "code",
   "execution_count": 12,
   "metadata": {},
   "outputs": [
    {
     "name": "stdout",
     "output_type": "stream",
     "text": [
      "roc - 0.6802983564386093\n"
     ]
    }
   ],
   "source": [
    "from sklearn.model_selection import StratifiedKFold\n",
    "\n",
    "from sklearn.linear_model import LogisticRegression\n",
    "\n",
    "from sklearn.model_selection import cross_val_predict\n",
    "\n",
    "# Make the model with the specified regularization parameter\n",
    "\n",
    "# 80-20 train-test case\n",
    "kf = StratifiedKFold(n_splits=5, random_state=None, shuffle=False)\n",
    "log_reg = LogisticRegression(C = 0.001, max_iter=100, solver='sag', fit_intercept=True)\n",
    "y_pred = cross_val_predict(estimator=log_reg , X=x_train, y=y_train, cv=kf)\n",
    "\n",
    "from sklearn import metrics\n",
    "\n",
    "# print(metrics.confusion_matrix(y_train, y_pred))\n",
    "# print(metrics.classification_report(train_label ,y_pred))\n",
    "print(\"roc - {}\".format(metrics.roc_auc_score(y_train, y_pred)))"
   ]
  },
  {
   "cell_type": "code",
   "execution_count": 14,
   "metadata": {},
   "outputs": [
    {
     "name": "stdout",
     "output_type": "stream",
     "text": [
      "[[153587  72264]\n",
      " [ 56106 170337]]\n",
      "roc - 0.7161329381088406\n"
     ]
    }
   ],
   "source": [
    "from sklearn.model_selection import StratifiedKFold\n",
    "\n",
    "from sklearn.neural_network import MLPClassifier\n",
    "\n",
    "from sklearn.model_selection import cross_val_predict\n",
    "\n",
    "# 80-20 train-test case\n",
    "mlp_kf = StratifiedKFold(n_splits=5, random_state=None, shuffle=False)\n",
    "\n",
    "#mean of number of hidden nodes(1 layer is enough for) between input nodes and output nodes\n",
    "total_hidden_nodes = int((2 + (len(samples.columns)-1))/2)\n",
    "mlp = MLPClassifier(hidden_layer_sizes=(total_hidden_nodes-10,),activation='relu', solver='adam', \n",
    "                    batch_size=400, learning_rate_init=0.01, max_iter=1000, alpha=0.0001)\n",
    "y_pred = cross_val_predict(estimator=mlp , X=x_train, y=y_train, cv=mlp_kf)\n",
    "from sklearn import metrics\n",
    "\n",
    "print(metrics.confusion_matrix(y_train, y_pred))\n",
    "# print(metrics.classification_report(train_label ,y_pred))\n",
    "print(\"roc - {}\".format(metrics.roc_auc_score(y_train, y_pred)))"
   ]
  },
  {
   "cell_type": "code",
   "execution_count": 15,
   "metadata": {},
   "outputs": [
    {
     "data": {
      "text/plain": [
       "452294"
      ]
     },
     "execution_count": 15,
     "metadata": {},
     "output_type": "execute_result"
    }
   ],
   "source": [
    "len(x_train)"
   ]
  },
  {
   "cell_type": "code",
   "execution_count": 16,
   "metadata": {},
   "outputs": [
    {
     "data": {
      "text/plain": [
       "672.5280663288336"
      ]
     },
     "execution_count": 16,
     "metadata": {},
     "output_type": "execute_result"
    }
   ],
   "source": [
    "452294**0.5"
   ]
  },
  {
   "cell_type": "code",
   "execution_count": null,
   "metadata": {},
   "outputs": [],
   "source": []
  }
 ],
 "metadata": {
  "kernelspec": {
   "display_name": "Python 3",
   "language": "python",
   "name": "python3"
  },
  "language_info": {
   "codemirror_mode": {
    "name": "ipython",
    "version": 3
   },
   "file_extension": ".py",
   "mimetype": "text/x-python",
   "name": "python",
   "nbconvert_exporter": "python",
   "pygments_lexer": "ipython3",
   "version": "3.7.7"
  }
 },
 "nbformat": 4,
 "nbformat_minor": 2
}
