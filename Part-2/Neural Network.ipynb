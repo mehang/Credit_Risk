{
 "cells": [
  {
   "cell_type": "code",
   "execution_count": 5,
   "metadata": {},
   "outputs": [
    {
     "name": "stdout",
     "output_type": "stream",
     "text": [
      "0 columns were label encoded.\n",
      "Training data shape:  (307511, 245)\n"
     ]
    }
   ],
   "source": [
    "#numpy and pandas for data manipulation\n",
    "import numpy as np\n",
    "import pandas as pd\n",
    "\n",
    "from sklearn.model_selection import KFold\n",
    "\n",
    "from sklearn.model_selection import StratifiedKFold\n",
    "\n",
    "from sklearn.neural_network import MLPRegressor\n",
    "\n",
    "from sklearn.model_selection import cross_val_predict\n",
    "\n",
    "from sklearn.preprocessing import StandardScaler\n",
    "from sklearn.impute import SimpleImputer\n",
    "\n",
    "from sklearn.model_selection import train_test_split\n",
    "from sklearn import metrics\n",
    "\n",
    "#sklearn preprocessing for dealing with categorical variables\n",
    "from sklearn.preprocessing import LabelEncoder\n",
    "\n",
    "from itertools import product\n",
    "\n",
    "\n",
    "samples = pd.read_csv('data/application_train.csv')\n",
    "\n",
    "# Create a label encoder object\n",
    "le = LabelEncoder()\n",
    "le_count = 0\n",
    "\n",
    "# Iterate through the columns\n",
    "for col in samples:\n",
    "    if samples[col].dtype == 'bool':\n",
    "        # If 2 or fewer unique categories\n",
    "        if len(list(samples[col].unique())) <= 2:\n",
    "            # Train on the training data\n",
    "            le.fit(samples[col])\n",
    "            # Transform \n",
    "            samples[col] = le.transform(samples[col])\n",
    "            \n",
    "            # Keep track of how many columns were label encoded\n",
    "            le_count += 1\n",
    "print('%d columns were label encoded.' % le_count)\n",
    "\n",
    "train_label = samples['TARGET']\n",
    "samples = samples.drop(columns=['TARGET'])\n",
    "\n",
    "# one-hot encoding of categorical variables\n",
    "samples = pd.get_dummies(samples)\n",
    "\n",
    "# Median imputation of missing values\n",
    "imputer = SimpleImputer(strategy = 'median')\n",
    "\n",
    "# Scale each feature to -1 and 1\n",
    "scaler = StandardScaler()\n",
    "\n",
    "# Fit on the training data\n",
    "imputer.fit(samples)\n",
    "\n",
    "# Transform both training and testing data\n",
    "samples = imputer.transform(samples)\n",
    "\n",
    "# Repeat with the scaler\n",
    "scaler.fit(samples)\n",
    "samples = scaler.transform(samples)\n",
    "\n",
    "print('Training data shape: ', samples.shape)"
   ]
  },
  {
   "cell_type": "code",
   "execution_count": 6,
   "metadata": {},
   "outputs": [],
   "source": [
    "x_train,x_test, y_train, y_test = train_test_split(samples, train_label, test_size=0.2)"
   ]
  },
  {
   "cell_type": "code",
   "execution_count": 7,
   "metadata": {},
   "outputs": [],
   "source": [
    "def classify(arr, threshold):\n",
    "    return [1 if row[1] >= threshold else 0 for row in arr]"
   ]
  },
  {
   "cell_type": "code",
   "execution_count": 9,
   "metadata": {},
   "outputs": [
    {
     "ename": "NameError",
     "evalue": "name 'hp' is not defined",
     "output_type": "error",
     "traceback": [
      "\u001b[0;31m---------------------------------------------------------------------------\u001b[0m",
      "\u001b[0;31mNameError\u001b[0m                                 Traceback (most recent call last)",
      "\u001b[0;32m<ipython-input-9-8465d18e5217>\u001b[0m in \u001b[0;36m<module>\u001b[0;34m\u001b[0m\n\u001b[1;32m     13\u001b[0m \u001b[0;31m# y_pred = classify(cross_val_predict(estimator=mlp, X=x_train, y=y_train, cv=kf), hp[3])\u001b[0m\u001b[0;34m\u001b[0m\u001b[0;34m\u001b[0m\u001b[0;34m\u001b[0m\u001b[0m\n\u001b[1;32m     14\u001b[0m \u001b[0;34m\u001b[0m\u001b[0m\n\u001b[0;32m---> 15\u001b[0;31m \u001b[0mprint\u001b[0m\u001b[0;34m(\u001b[0m\u001b[0;34m\"Hyperparameters - {}  roc - {}\"\u001b[0m\u001b[0;34m.\u001b[0m\u001b[0mformat\u001b[0m\u001b[0;34m(\u001b[0m\u001b[0mhp\u001b[0m\u001b[0;34m,\u001b[0m\u001b[0mmetrics\u001b[0m\u001b[0;34m.\u001b[0m\u001b[0mroc_auc_score\u001b[0m\u001b[0;34m(\u001b[0m\u001b[0my_train\u001b[0m\u001b[0;34m,\u001b[0m \u001b[0my_pred\u001b[0m\u001b[0;34m)\u001b[0m\u001b[0;34m)\u001b[0m\u001b[0;34m)\u001b[0m\u001b[0;34m\u001b[0m\u001b[0;34m\u001b[0m\u001b[0m\n\u001b[0m",
      "\u001b[0;31mNameError\u001b[0m: name 'hp' is not defined"
     ]
    }
   ],
   "source": [
    "# C, max iter, threshold, weight\n",
    "comb_hyperparameters = product(tuple((1,0.1,0.01,0.001,0.0001)), tuple((100,200,400, 700)), \n",
    "                               tuple((None, {0:0.1238,1:0.8762},{0:0.2238,1:0.7762}, 'balanced')),\n",
    "                              tuple((0.2, 0.4, 0.5)) )\n",
    "\n",
    "# for hp in comb_hyperparameter:\n",
    "# 80-20 train-test case\n",
    "kf = StratifiedKFold(n_splits=5, random_state=None, shuffle=False)\n",
    "total_hidden_nodes = 20\n",
    "mlp = MLPRegressor(hidden_layer_sizes=(total_hidden_nodes,),activation='relu', solver='adam', \n",
    "                    batch_size=200, learning_rate_init=0.001, max_iter=100, alpha=0.0001, shuffle=True)\n",
    "jpt = cross_val_predict(estimator=mlp, X=x_train, y=y_train, cv=kf)\n",
    "# y_pred = classify(cross_val_predict(estimator=mlp, X=x_train, y=y_train, cv=kf), hp[3])\n",
    "\n",
    "print(\"Hyperparameters - {}  roc - {}\".format(hp,metrics.roc_auc_score(y_train, y_pred)))"
   ]
  }
 ],
 "metadata": {
  "kernelspec": {
   "display_name": "Python 3",
   "language": "python",
   "name": "python3"
  },
  "language_info": {
   "codemirror_mode": {
    "name": "ipython",
    "version": 3
   },
   "file_extension": ".py",
   "mimetype": "text/x-python",
   "name": "python",
   "nbconvert_exporter": "python",
   "pygments_lexer": "ipython3",
   "version": "3.7.7"
  }
 },
 "nbformat": 4,
 "nbformat_minor": 2
}
