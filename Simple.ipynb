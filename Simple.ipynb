{
 "cells": [
  {
   "cell_type": "code",
   "execution_count": 1,
   "metadata": {},
   "outputs": [],
   "source": [
    "#numpy and pandas for data manipulation\n",
    "import numpy as np\n",
    "import pandas as pd\n",
    "\n",
    "#sklearn preprocessing for dealing with categorical variables\n",
    "from sklearn.preprocessing import LabelEncoder\n",
    "from sklearn.model_selection import KFold"
   ]
  },
  {
   "cell_type": "code",
   "execution_count": 2,
   "metadata": {},
   "outputs": [],
   "source": [
    "samples = pd.read_csv('data/application_train.csv')\n",
    "train_label = samples['TARGET']\n",
    "train_data = samples.drop(columns=['TARGET'])"
   ]
  },
  {
   "cell_type": "code",
   "execution_count": 3,
   "metadata": {},
   "outputs": [
    {
     "name": "stdout",
     "output_type": "stream",
     "text": [
      "3 columns were label encoded.\n"
     ]
    }
   ],
   "source": [
    "# Create a label encoder object\n",
    "le = LabelEncoder()\n",
    "le_count = 0\n",
    "\n",
    "# Iterate through the columns\n",
    "for col in train_data:\n",
    "    if train_data[col].dtype == 'object':\n",
    "        # If 2 or fewer unique categories\n",
    "        if len(list(train_data[col].unique())) <= 2:\n",
    "            # Train on the training data\n",
    "            le.fit(train_data[col])\n",
    "            # Transform \n",
    "            train_data[col] = le.transform(train_data[col])\n",
    "            \n",
    "            # Keep track of how many columns were label encoded\n",
    "            le_count += 1\n",
    "print('%d columns were label encoded.' % le_count)"
   ]
  },
  {
   "cell_type": "code",
   "execution_count": 4,
   "metadata": {},
   "outputs": [],
   "source": [
    "# one-hot encoding of categorical variables\n",
    "train_data = pd.get_dummies(train_data)"
   ]
  },
  {
   "cell_type": "code",
   "execution_count": 5,
   "metadata": {},
   "outputs": [],
   "source": [
    "# # Create an anomalous flag column\n",
    "train_data['DAYS_EMPLOYED_ANOM'] = train_data[\"DAYS_EMPLOYED\"] == 365243\n",
    "\n",
    "# # Replace the anomalous values with nan\n",
    "train_data['DAYS_EMPLOYED'].replace({365243: np.nan}, inplace = True)"
   ]
  },
  {
   "cell_type": "code",
   "execution_count": 6,
   "metadata": {},
   "outputs": [
    {
     "name": "stdout",
     "output_type": "stream",
     "text": [
      "Training data shape:  (307511, 243)\n"
     ]
    }
   ],
   "source": [
    "from sklearn.preprocessing import MinMaxScaler\n",
    "from sklearn.impute import SimpleImputer\n",
    "\n",
    "\n",
    "# Median imputation of missing values\n",
    "imputer = SimpleImputer(strategy = 'median')\n",
    "\n",
    "# Scale each feature to 0-1\n",
    "scaler = MinMaxScaler(feature_range = (0, 1))\n",
    "\n",
    "# Fit on the training data\n",
    "imputer.fit(train_data)\n",
    "\n",
    "# Transform both training and testing data\n",
    "train_data = imputer.transform(train_data)\n",
    "\n",
    "# Repeat with the scaler\n",
    "scaler.fit(train_data)\n",
    "train_data = scaler.transform(train_data)\n",
    "\n",
    "print('Training data shape: ', train_data.shape)"
   ]
  },
  {
   "cell_type": "code",
   "execution_count": 7,
   "metadata": {},
   "outputs": [
    {
     "name": "stdout",
     "output_type": "stream",
     "text": [
      "[[282576    110]\n",
      " [ 24723    102]]\n",
      "              precision    recall  f1-score   support\n",
      "\n",
      "           0       0.92      1.00      0.96    282686\n",
      "           1       0.48      0.00      0.01     24825\n",
      "\n",
      "    accuracy                           0.92    307511\n",
      "   macro avg       0.70      0.50      0.48    307511\n",
      "weighted avg       0.88      0.92      0.88    307511\n",
      "\n",
      "roc - 0.5018598185002724\n"
     ]
    }
   ],
   "source": [
    "from sklearn.model_selection import StratifiedKFold\n",
    "\n",
    "from sklearn.linear_model import LogisticRegression\n",
    "\n",
    "from sklearn.model_selection import cross_val_predict\n",
    "\n",
    "# Make the model with the specified regularization parameter\n",
    "# log_reg =\n",
    "\n",
    "# 80-20 train-test case\n",
    "kf = StratifiedKFold(n_splits=5, random_state=None, shuffle=False)\n",
    "log_reg = LogisticRegression(C = 0.01, max_iter=500, solver='sag', fit_intercept=True)\n",
    "y_pred = cross_val_predict(estimator=log_reg , X=train_data, y=train_label, cv=kf)\n",
    "from sklearn import metrics\n",
    "\n",
    "print(metrics.confusion_matrix(train_label, y_pred))\n",
    "print(metrics.classification_report(train_label ,y_pred))\n",
    "print(\"roc - {}\".format(metrics.roc_auc_score(train_label, y_pred)))"
   ]
  }
 ],
 "metadata": {
  "kernelspec": {
   "display_name": "Python 3",
   "language": "python",
   "name": "python3"
  },
  "language_info": {
   "codemirror_mode": {
    "name": "ipython",
    "version": 3
   },
   "file_extension": ".py",
   "mimetype": "text/x-python",
   "name": "python",
   "nbconvert_exporter": "python",
   "pygments_lexer": "ipython3",
   "version": "3.7.6"
  }
 },
 "nbformat": 4,
 "nbformat_minor": 4
}
